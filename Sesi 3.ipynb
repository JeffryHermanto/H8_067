{
 "cells": [
  {
   "cell_type": "markdown",
   "id": "fbc54070",
   "metadata": {},
   "source": [
    "# Defining a Function"
   ]
  },
  {
   "cell_type": "code",
   "execution_count": 2,
   "id": "2f6d8468",
   "metadata": {},
   "outputs": [
    {
     "name": "stdout",
     "output_type": "stream",
     "text": [
      "8\n"
     ]
    }
   ],
   "source": [
    "def my_function(p, l):\n",
    "    \"Function untuk menghitung luas\"\n",
    "    print(p * l)\n",
    "\n",
    "my_function(2, 4)"
   ]
  },
  {
   "cell_type": "markdown",
   "id": "26fdd33d",
   "metadata": {},
   "source": [
    "# Calling a Function"
   ]
  },
  {
   "cell_type": "code",
   "execution_count": 2,
   "id": "d82ab28b",
   "metadata": {},
   "outputs": [
    {
     "name": "stdout",
     "output_type": "stream",
     "text": [
      "I'm first call to user defined function!\n",
      "Again second call to the same function\n"
     ]
    }
   ],
   "source": [
    "def printme(str):\n",
    "    \"This prints a passed string into this function\"\n",
    "    print(str)\n",
    "    return;\n",
    "\n",
    "printme(\"I'm first call to user defined function!\")\n",
    "printme(\"Again second call to the same function\")"
   ]
  },
  {
   "cell_type": "markdown",
   "id": "46a11baf",
   "metadata": {},
   "source": [
    "# Pass by reference vs value"
   ]
  },
  {
   "cell_type": "code",
   "execution_count": 4,
   "id": "8139340b",
   "metadata": {},
   "outputs": [
    {
     "name": "stdout",
     "output_type": "stream",
     "text": [
      "Values inside the function:  [10, 20, 30, [1, 2, 3, 4]]\n",
      "Values outside the function:  [10, 20, 30, [1, 2, 3, 4]]\n"
     ]
    }
   ],
   "source": [
    "# Function definition is here\n",
    "def changeme(mylist):\n",
    "    \"This changes a passed list into this function\"\n",
    "    mylist.append([1, 2, 3, 4])\n",
    "    print(\"Values inside the function: \", mylist)\n",
    "    return\n",
    "\n",
    "# Now you can call the changeme function\n",
    "mylist = [10, 20, 30]\n",
    "changeme(mylist)\n",
    "print(\"Values outside the function: \", mylist)"
   ]
  },
  {
   "cell_type": "code",
   "execution_count": 5,
   "id": "f5b17cb9",
   "metadata": {},
   "outputs": [
    {
     "name": "stdout",
     "output_type": "stream",
     "text": [
      "Values inside the function:  [1, 2, 3, 4]\n",
      "Values outside the function:  [10, 20, 30]\n"
     ]
    }
   ],
   "source": [
    "# Function definition is here\n",
    "def changeme(mylist):\n",
    "    \"This changes a passed list into this function\"\n",
    "    mylist = [1, 2, 3, 4] # This would assign new reference in mylist\n",
    "    print(\"Values inside the function: \", mylist)\n",
    "    return\n",
    "\n",
    "# Now you can call changeme function\n",
    "mylist = [10, 20, 30]\n",
    "changeme(mylist)\n",
    "print(\"Values outside the function: \", mylist)"
   ]
  },
  {
   "cell_type": "markdown",
   "id": "fb243ead",
   "metadata": {},
   "source": [
    "# Function Arguments"
   ]
  },
  {
   "cell_type": "markdown",
   "id": "3741614e",
   "metadata": {},
   "source": [
    "## Required arguments"
   ]
  },
  {
   "cell_type": "code",
   "execution_count": 6,
   "id": "1458eb2d",
   "metadata": {},
   "outputs": [
    {
     "ename": "TypeError",
     "evalue": "printme() missing 1 required positional argument: 'str'",
     "output_type": "error",
     "traceback": [
      "\u001b[0;31m---------------------------------------------------------------------------\u001b[0m",
      "\u001b[0;31mTypeError\u001b[0m                                 Traceback (most recent call last)",
      "\u001b[0;32m<ipython-input-6-26dad31777e5>\u001b[0m in \u001b[0;36m<module>\u001b[0;34m\u001b[0m\n\u001b[1;32m      4\u001b[0m     \u001b[0;32mreturn\u001b[0m\u001b[0;34m\u001b[0m\u001b[0;34m\u001b[0m\u001b[0m\n\u001b[1;32m      5\u001b[0m \u001b[0;34m\u001b[0m\u001b[0m\n\u001b[0;32m----> 6\u001b[0;31m \u001b[0mprintme\u001b[0m\u001b[0;34m(\u001b[0m\u001b[0;34m)\u001b[0m\u001b[0;34m\u001b[0m\u001b[0;34m\u001b[0m\u001b[0m\n\u001b[0m",
      "\u001b[0;31mTypeError\u001b[0m: printme() missing 1 required positional argument: 'str'"
     ]
    }
   ],
   "source": [
    "# Functon definition is here\n",
    "def printme(str):\n",
    "    \"This prints a passed string into this function\"\n",
    "    print(str)\n",
    "    return\n",
    "\n",
    "# Now you can call printme function\n",
    "printme()"
   ]
  },
  {
   "cell_type": "markdown",
   "id": "a9251f26",
   "metadata": {},
   "source": [
    "## Keyword arguments"
   ]
  },
  {
   "cell_type": "code",
   "execution_count": 7,
   "id": "35bdcb63",
   "metadata": {},
   "outputs": [
    {
     "name": "stdout",
     "output_type": "stream",
     "text": [
      "Hacktiv8\n"
     ]
    }
   ],
   "source": [
    "# Functon definition is here\n",
    "def printme(str):\n",
    "    \"This prints a passed string into this function\"\n",
    "    print(str)\n",
    "    return\n",
    "\n",
    "# Now you can call printme function\n",
    "printme(str = \"Hacktiv8\")"
   ]
  },
  {
   "cell_type": "code",
   "execution_count": 10,
   "id": "43d089d2",
   "metadata": {},
   "outputs": [
    {
     "name": "stdout",
     "output_type": "stream",
     "text": [
      "Name:  4\n",
      "Age:  Hacktiv8\n"
     ]
    }
   ],
   "source": [
    "# Function definition is here\n",
    "def printinfo(name, age):\n",
    "    \"This prints a passed info into this function\"\n",
    "    print(\"Name: \", name)\n",
    "    print(\"Age: \", age)\n",
    "    return\n",
    "\n",
    "# Now you can call printinfo function\n",
    "printinfo(age = 4, name = \"Hacktiv8\")"
   ]
  },
  {
   "cell_type": "markdown",
   "id": "c558c56e",
   "metadata": {},
   "source": [
    "## Default arguments"
   ]
  },
  {
   "cell_type": "code",
   "execution_count": 11,
   "id": "36416605",
   "metadata": {},
   "outputs": [
    {
     "name": "stdout",
     "output_type": "stream",
     "text": [
      "Name:  Hacktiv8\n",
      "Age:  50\n",
      "Name:  Hacktiv\n",
      "Age:  26\n"
     ]
    }
   ],
   "source": [
    "# Function definition is here\n",
    "def printinfo(name, age = 26):\n",
    "    \"This prints a passed info into this function\"\n",
    "    print(\"Name: \", name)\n",
    "    print(\"Age: \", age)\n",
    "    return\n",
    "\n",
    "# Now you can call printinfo function\n",
    "printinfo(age = 50, name = \"Hacktiv8\")\n",
    "printinfo(name = \"Hacktiv\")"
   ]
  },
  {
   "cell_type": "markdown",
   "id": "32538b87",
   "metadata": {},
   "source": [
    "## Variable-length arguments"
   ]
  },
  {
   "cell_type": "code",
   "execution_count": 12,
   "id": "955cec8b",
   "metadata": {},
   "outputs": [
    {
     "name": "stdout",
     "output_type": "stream",
     "text": [
      "Output is: \n",
      "10\n",
      "Output is: \n",
      "70\n",
      "60\n",
      "50\n",
      "a\n"
     ]
    }
   ],
   "source": [
    "# Function definition is here\n",
    "def printinfo(arg1, *vartuple):\n",
    "    \"This prints a variable passed arguments\"\n",
    "    print(\"Output is: \")\n",
    "    print(arg1)\n",
    "    for var in vartuple:\n",
    "        print(var)\n",
    "    return\n",
    "\n",
    "# Now you can call printinfo function\n",
    "printinfo(10)\n",
    "printinfo(70, 60, 50, \"a\")"
   ]
  },
  {
   "cell_type": "markdown",
   "id": "66d53b1b",
   "metadata": {},
   "source": [
    "# The Anonymous Functions"
   ]
  },
  {
   "cell_type": "code",
   "execution_count": 16,
   "id": "0bd450d8",
   "metadata": {},
   "outputs": [
    {
     "name": "stdout",
     "output_type": "stream",
     "text": [
      "Value of total:  30\n",
      "Value of total:  40\n"
     ]
    }
   ],
   "source": [
    "# Function definition is here\n",
    "sum = lambda arg1, arg2: arg1 + arg2\n",
    "\n",
    "def sum(arg1, arg2):\n",
    "    return arg1 + arg2\n",
    "    \n",
    "# Now you can call sum as a function\n",
    "print(\"Value of total: \", sum(10, 20))\n",
    "print(\"Value of total: \", sum(20, 20))"
   ]
  },
  {
   "cell_type": "markdown",
   "id": "43ff0ec5",
   "metadata": {},
   "source": [
    "# The return Statement"
   ]
  },
  {
   "cell_type": "code",
   "execution_count": 17,
   "id": "dfefe9bc",
   "metadata": {},
   "outputs": [
    {
     "name": "stdout",
     "output_type": "stream",
     "text": [
      "Inside the function:  30\n",
      "Outside the function:  40\n"
     ]
    }
   ],
   "source": [
    "# Function definition is here\n",
    "def sum(arg1, arg2):\n",
    "    \"Add both the parameters and return them.\"\n",
    "    total = arg1 + arg2\n",
    "    total2 = total + arg1\n",
    "    print(\"Inside the function: \", total)\n",
    "    return total2\n",
    "\n",
    "# Now you can call sum function\n",
    "total = sum(10, 20)\n",
    "print(\"Outside the function: \", total)"
   ]
  },
  {
   "cell_type": "markdown",
   "id": "a2d38c17",
   "metadata": {},
   "source": [
    "# Scope of Variables"
   ]
  },
  {
   "cell_type": "markdown",
   "id": "e30d30fd",
   "metadata": {},
   "source": [
    "## Global vs. Local variables"
   ]
  },
  {
   "cell_type": "code",
   "execution_count": 19,
   "id": "17fb6a14",
   "metadata": {},
   "outputs": [
    {
     "name": "stdout",
     "output_type": "stream",
     "text": [
      "Inside the function local total:  30\n",
      "Outside the function global total:  0\n"
     ]
    }
   ],
   "source": [
    "total = 0;\n",
    "\n",
    "def sum(arg1, arg2):\n",
    "    total = arg1 + arg2\n",
    "    print(\"Inside the function local total: \", total)\n",
    "    return total\n",
    "    \n",
    "sum(10, 20)\n",
    "print(\"Outside the function global total: \", total)"
   ]
  },
  {
   "cell_type": "code",
   "execution_count": 20,
   "id": "8e49014f",
   "metadata": {},
   "outputs": [
    {
     "data": {
      "text/plain": [
       "40"
      ]
     },
     "execution_count": 20,
     "metadata": {},
     "output_type": "execute_result"
    }
   ],
   "source": [
    "jumlahKucing = 20\n",
    "\n",
    "def jumlahHewan():\n",
    "    jumlahAnjing = 30\n",
    "    return jumlahKucing + jumlahAnjing\n",
    "\n",
    "def jumlahKelinci():\n",
    "    return jumlahKucing + jumlahKucing\n",
    "\n",
    "jumlahHewan()\n",
    "jumlahKelinci()"
   ]
  },
  {
   "cell_type": "markdown",
   "id": "56df9ec0",
   "metadata": {},
   "source": [
    "# Python Modules: Overview"
   ]
  },
  {
   "cell_type": "code",
   "execution_count": null,
   "id": "13fa74c8",
   "metadata": {},
   "outputs": [],
   "source": [
    "# Lanjut dengan menggunakan VS Code"
   ]
  }
 ],
 "metadata": {
  "kernelspec": {
   "display_name": "Python 3",
   "language": "python",
   "name": "python3"
  },
  "language_info": {
   "codemirror_mode": {
    "name": "ipython",
    "version": 3
   },
   "file_extension": ".py",
   "mimetype": "text/x-python",
   "name": "python",
   "nbconvert_exporter": "python",
   "pygments_lexer": "ipython3",
   "version": "3.8.8"
  }
 },
 "nbformat": 4,
 "nbformat_minor": 5
}
